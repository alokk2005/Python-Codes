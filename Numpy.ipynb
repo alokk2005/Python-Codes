{
 "cells": [
  {
   "cell_type": "code",
   "id": "initial_id",
   "metadata": {
    "collapsed": true,
    "ExecuteTime": {
     "end_time": "2025-08-24T12:22:33.729476Z",
     "start_time": "2025-08-24T12:22:33.723261Z"
    }
   },
   "source": "import numpy as np",
   "outputs": [],
   "execution_count": 18
  },
  {
   "metadata": {
    "ExecuteTime": {
     "end_time": "2025-08-24T12:22:33.777768Z",
     "start_time": "2025-08-24T12:22:33.770459Z"
    }
   },
   "cell_type": "code",
   "source": "myarr=np.array([[3,6,32,7]] , np.int64)",
   "id": "9a355a2d84049c5f",
   "outputs": [],
   "execution_count": 19
  },
  {
   "metadata": {
    "ExecuteTime": {
     "end_time": "2025-08-24T12:22:33.812623Z",
     "start_time": "2025-08-24T12:22:33.799875Z"
    }
   },
   "cell_type": "code",
   "source": "myarr",
   "id": "c4d7cc5c2b36a12",
   "outputs": [
    {
     "data": {
      "text/plain": [
       "array([[ 3,  6, 32,  7]])"
      ]
     },
     "execution_count": 20,
     "metadata": {},
     "output_type": "execute_result"
    }
   ],
   "execution_count": 20
  },
  {
   "metadata": {
    "ExecuteTime": {
     "end_time": "2025-08-24T12:22:33.851906Z",
     "start_time": "2025-08-24T12:22:33.839384Z"
    }
   },
   "cell_type": "code",
   "source": "myarr[0,1]",
   "id": "d7c66a440abf9d3b",
   "outputs": [
    {
     "data": {
      "text/plain": [
       "np.int64(6)"
      ]
     },
     "execution_count": 21,
     "metadata": {},
     "output_type": "execute_result"
    }
   ],
   "execution_count": 21
  },
  {
   "metadata": {
    "ExecuteTime": {
     "end_time": "2025-08-24T12:22:33.888225Z",
     "start_time": "2025-08-24T12:22:33.876650Z"
    }
   },
   "cell_type": "code",
   "source": "myarr.shape",
   "id": "c7765300a5ea822a",
   "outputs": [
    {
     "data": {
      "text/plain": [
       "(1, 4)"
      ]
     },
     "execution_count": 22,
     "metadata": {},
     "output_type": "execute_result"
    }
   ],
   "execution_count": 22
  },
  {
   "metadata": {
    "ExecuteTime": {
     "end_time": "2025-08-24T12:22:33.992701Z",
     "start_time": "2025-08-24T12:22:33.979008Z"
    }
   },
   "cell_type": "code",
   "source": "myarr.dtype",
   "id": "c19ce2b0bbb2f735",
   "outputs": [
    {
     "data": {
      "text/plain": [
       "dtype('int64')"
      ]
     },
     "execution_count": 23,
     "metadata": {},
     "output_type": "execute_result"
    }
   ],
   "execution_count": 23
  },
  {
   "metadata": {
    "ExecuteTime": {
     "end_time": "2025-08-24T12:22:56.157577Z",
     "start_time": "2025-08-24T12:22:56.144067Z"
    }
   },
   "cell_type": "code",
   "source": "myarr[0,1]=45",
   "id": "31f5428c81cfb39a",
   "outputs": [],
   "execution_count": 24
  },
  {
   "metadata": {
    "ExecuteTime": {
     "end_time": "2025-08-24T12:23:11.645461Z",
     "start_time": "2025-08-24T12:23:11.634517Z"
    }
   },
   "cell_type": "code",
   "source": "myarr",
   "id": "e2b4df0bd19dd11",
   "outputs": [
    {
     "data": {
      "text/plain": [
       "array([[ 3, 45, 32,  7]])"
      ]
     },
     "execution_count": 25,
     "metadata": {},
     "output_type": "execute_result"
    }
   ],
   "execution_count": 25
  },
  {
   "metadata": {},
   "cell_type": "code",
   "outputs": [],
   "execution_count": null,
   "source": "",
   "id": "d6fcfd767518ba3d"
  }
 ],
 "metadata": {
  "kernelspec": {
   "display_name": "Python 3",
   "language": "python",
   "name": "python3"
  },
  "language_info": {
   "codemirror_mode": {
    "name": "ipython",
    "version": 2
   },
   "file_extension": ".py",
   "mimetype": "text/x-python",
   "name": "python",
   "nbconvert_exporter": "python",
   "pygments_lexer": "ipython2",
   "version": "2.7.6"
  }
 },
 "nbformat": 4,
 "nbformat_minor": 5
}
