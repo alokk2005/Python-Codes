{
 "cells": [
  {
   "cell_type": "code",
   "id": "initial_id",
   "metadata": {
    "collapsed": true,
    "ExecuteTime": {
     "end_time": "2025-08-27T21:12:29.771596Z",
     "start_time": "2025-08-27T21:12:29.454474Z"
    }
   },
   "source": [
    "import numpy as np\n",
    "import pandas as pd"
   ],
   "outputs": [],
   "execution_count": 2
  },
  {
   "metadata": {
    "ExecuteTime": {
     "end_time": "2025-08-27T21:12:31.431971Z",
     "start_time": "2025-08-27T21:12:31.421918Z"
    }
   },
   "cell_type": "code",
   "source": [
    "data = {\n",
    "    \"Name\": [\"Alok\", \"Ravi\", \"Amit\"],\n",
    "    \"Age\": [23, 25, 22],\n",
    "    \"Marks\": [85, 90, 88]\n",
    "}\n",
    "df = pd.DataFrame(data)\n",
    "print(df)"
   ],
   "id": "4f7cb0cfa53962bc",
   "outputs": [
    {
     "name": "stdout",
     "output_type": "stream",
     "text": [
      "   Name  Age  Marks\n",
      "0  Alok   23     85\n",
      "1  Ravi   25     90\n",
      "2  Amit   22     88\n"
     ]
    }
   ],
   "execution_count": 3
  },
  {
   "metadata": {
    "ExecuteTime": {
     "end_time": "2025-08-27T21:12:49.343120Z",
     "start_time": "2025-08-27T21:12:49.329078Z"
    }
   },
   "cell_type": "code",
   "source": [
    "print(df.head(2))   # First 2 rows\n",
    "print(df.tail(1))   # Last 1 row\n"
   ],
   "id": "f5daf5678f7f1e3f",
   "outputs": [
    {
     "name": "stdout",
     "output_type": "stream",
     "text": [
      "   Name  Age  Marks\n",
      "0  Alok   23     85\n",
      "1  Ravi   25     90\n",
      "   Name  Age  Marks\n",
      "2  Amit   22     88\n"
     ]
    }
   ],
   "execution_count": 4
  },
  {
   "metadata": {
    "ExecuteTime": {
     "end_time": "2025-08-27T21:13:15.385042Z",
     "start_time": "2025-08-27T21:13:15.375067Z"
    }
   },
   "cell_type": "code",
   "source": "print(df.describe())\n",
   "id": "f9f1fec9dc0c2182",
   "outputs": [
    {
     "name": "stdout",
     "output_type": "stream",
     "text": [
      "             Age      Marks\n",
      "count   3.000000   3.000000\n",
      "mean   23.333333  87.666667\n",
      "std     1.527525   2.516611\n",
      "min    22.000000  85.000000\n",
      "25%    22.500000  86.500000\n",
      "50%    23.000000  88.000000\n",
      "75%    24.000000  89.000000\n",
      "max    25.000000  90.000000\n"
     ]
    }
   ],
   "execution_count": 5
  },
  {
   "metadata": {
    "ExecuteTime": {
     "end_time": "2025-08-27T21:13:20.431827Z",
     "start_time": "2025-08-27T21:13:20.428212Z"
    }
   },
   "cell_type": "code",
   "source": "print(df.index)",
   "id": "545a11a501da3dda",
   "outputs": [
    {
     "name": "stdout",
     "output_type": "stream",
     "text": [
      "RangeIndex(start=0, stop=3, step=1)\n"
     ]
    }
   ],
   "execution_count": 6
  },
  {
   "metadata": {
    "ExecuteTime": {
     "end_time": "2025-08-27T21:18:36.120686Z",
     "start_time": "2025-08-27T21:18:36.079562Z"
    }
   },
   "cell_type": "code",
   "source": "df",
   "id": "4baebde50efd7b50",
   "outputs": [
    {
     "data": {
      "text/plain": [
       "   Name  Age  Marks\n",
       "0  Alok   23     85\n",
       "1  Ravi   25     90\n",
       "2  Amit   22     88"
      ],
      "text/html": [
       "<div>\n",
       "<style scoped>\n",
       "    .dataframe tbody tr th:only-of-type {\n",
       "        vertical-align: middle;\n",
       "    }\n",
       "\n",
       "    .dataframe tbody tr th {\n",
       "        vertical-align: top;\n",
       "    }\n",
       "\n",
       "    .dataframe thead th {\n",
       "        text-align: right;\n",
       "    }\n",
       "</style>\n",
       "<table border=\"1\" class=\"dataframe\">\n",
       "  <thead>\n",
       "    <tr style=\"text-align: right;\">\n",
       "      <th></th>\n",
       "      <th>Name</th>\n",
       "      <th>Age</th>\n",
       "      <th>Marks</th>\n",
       "    </tr>\n",
       "  </thead>\n",
       "  <tbody>\n",
       "    <tr>\n",
       "      <th>0</th>\n",
       "      <td>Alok</td>\n",
       "      <td>23</td>\n",
       "      <td>85</td>\n",
       "    </tr>\n",
       "    <tr>\n",
       "      <th>1</th>\n",
       "      <td>Ravi</td>\n",
       "      <td>25</td>\n",
       "      <td>90</td>\n",
       "    </tr>\n",
       "    <tr>\n",
       "      <th>2</th>\n",
       "      <td>Amit</td>\n",
       "      <td>22</td>\n",
       "      <td>88</td>\n",
       "    </tr>\n",
       "  </tbody>\n",
       "</table>\n",
       "</div>"
      ]
     },
     "execution_count": 7,
     "metadata": {},
     "output_type": "execute_result"
    }
   ],
   "execution_count": 7
  },
  {
   "metadata": {
    "ExecuteTime": {
     "end_time": "2025-08-27T21:18:44.713682Z",
     "start_time": "2025-08-27T21:18:44.695186Z"
    }
   },
   "cell_type": "code",
   "source": [
    "print(df.loc[0, \"Name\"])   # By label → Alok\n",
    "print(df.iloc[1, 2])       # By index → 90\n",
    "print(df.loc[:, [\"Name\",\"Marks\"]])  # All rows, specific cols\n",
    "print(df.iloc[0:2, 0:2])"
   ],
   "id": "fffa6e1acdd5566e",
   "outputs": [
    {
     "name": "stdout",
     "output_type": "stream",
     "text": [
      "Alok\n",
      "90\n",
      "   Name  Marks\n",
      "0  Alok     85\n",
      "1  Ravi     90\n",
      "2  Amit     88\n",
      "   Name  Age\n",
      "0  Alok   23\n",
      "1  Ravi   25\n"
     ]
    }
   ],
   "execution_count": 8
  },
  {
   "metadata": {},
   "cell_type": "code",
   "outputs": [],
   "execution_count": null,
   "source": "",
   "id": "5a15710f3a4fa945"
  },
  {
   "metadata": {
    "ExecuteTime": {
     "end_time": "2025-08-27T21:37:30.665930Z",
     "start_time": "2025-08-27T21:37:30.660099Z"
    }
   },
   "cell_type": "code",
   "source": [
    "import numpy as np\n",
    "\n",
    "data5 = {\n",
    "    \"Name\": [\"Alok\", \"Ravi\", None],\n",
    "    \"Age\": [23, np.nan, 22]\n",
    "}\n",
    "df = pd.DataFrame(data5)"
   ],
   "id": "4f8f273d751ec41",
   "outputs": [],
   "execution_count": 9
  },
  {
   "metadata": {
    "ExecuteTime": {
     "end_time": "2025-08-27T21:37:34.484491Z",
     "start_time": "2025-08-27T21:37:34.477908Z"
    }
   },
   "cell_type": "code",
   "source": "df",
   "id": "8de1308afc2a9361",
   "outputs": [
    {
     "data": {
      "text/plain": [
       "   Name   Age\n",
       "0  Alok  23.0\n",
       "1  Ravi   NaN\n",
       "2  None  22.0"
      ],
      "text/html": [
       "<div>\n",
       "<style scoped>\n",
       "    .dataframe tbody tr th:only-of-type {\n",
       "        vertical-align: middle;\n",
       "    }\n",
       "\n",
       "    .dataframe tbody tr th {\n",
       "        vertical-align: top;\n",
       "    }\n",
       "\n",
       "    .dataframe thead th {\n",
       "        text-align: right;\n",
       "    }\n",
       "</style>\n",
       "<table border=\"1\" class=\"dataframe\">\n",
       "  <thead>\n",
       "    <tr style=\"text-align: right;\">\n",
       "      <th></th>\n",
       "      <th>Name</th>\n",
       "      <th>Age</th>\n",
       "    </tr>\n",
       "  </thead>\n",
       "  <tbody>\n",
       "    <tr>\n",
       "      <th>0</th>\n",
       "      <td>Alok</td>\n",
       "      <td>23.0</td>\n",
       "    </tr>\n",
       "    <tr>\n",
       "      <th>1</th>\n",
       "      <td>Ravi</td>\n",
       "      <td>NaN</td>\n",
       "    </tr>\n",
       "    <tr>\n",
       "      <th>2</th>\n",
       "      <td>None</td>\n",
       "      <td>22.0</td>\n",
       "    </tr>\n",
       "  </tbody>\n",
       "</table>\n",
       "</div>"
      ]
     },
     "execution_count": 10,
     "metadata": {},
     "output_type": "execute_result"
    }
   ],
   "execution_count": 10
  },
  {
   "metadata": {
    "ExecuteTime": {
     "end_time": "2025-08-27T21:38:14.131519Z",
     "start_time": "2025-08-27T21:38:14.119057Z"
    }
   },
   "cell_type": "code",
   "source": "print(df.isnull())",
   "id": "56d426209359ceca",
   "outputs": [
    {
     "name": "stdout",
     "output_type": "stream",
     "text": [
      "    Name    Age\n",
      "0  False  False\n",
      "1  False   True\n",
      "2   True  False\n"
     ]
    }
   ],
   "execution_count": 11
  },
  {
   "metadata": {
    "ExecuteTime": {
     "end_time": "2025-08-27T21:39:23.437428Z",
     "start_time": "2025-08-27T21:39:23.430397Z"
    }
   },
   "cell_type": "code",
   "source": "print(df.notnull())",
   "id": "356d79cefce528ac",
   "outputs": [
    {
     "name": "stdout",
     "output_type": "stream",
     "text": [
      "    Name    Age\n",
      "0   True   True\n",
      "1   True  False\n",
      "2  False   True\n"
     ]
    }
   ],
   "execution_count": 12
  },
  {
   "metadata": {
    "ExecuteTime": {
     "end_time": "2025-08-27T21:43:40.056892Z",
     "start_time": "2025-08-27T21:43:40.037099Z"
    }
   },
   "cell_type": "code",
   "source": "print(df.dropna())",
   "id": "26e56e029a505d3c",
   "outputs": [
    {
     "name": "stdout",
     "output_type": "stream",
     "text": [
      "   Name   Age\n",
      "0  Alok  23.0\n"
     ]
    }
   ],
   "execution_count": 13
  },
  {
   "metadata": {
    "ExecuteTime": {
     "end_time": "2025-08-27T21:43:51.435020Z",
     "start_time": "2025-08-27T21:43:51.423623Z"
    }
   },
   "cell_type": "code",
   "source": "print(df.fillna(\"Unknown\"))",
   "id": "9270e8feab0b1683",
   "outputs": [
    {
     "name": "stdout",
     "output_type": "stream",
     "text": [
      "      Name      Age\n",
      "0     Alok     23.0\n",
      "1     Ravi  Unknown\n",
      "2  Unknown     22.0\n"
     ]
    }
   ],
   "execution_count": 14
  },
  {
   "metadata": {
    "ExecuteTime": {
     "end_time": "2025-08-27T21:47:39.642303Z",
     "start_time": "2025-08-27T21:47:39.638726Z"
    }
   },
   "cell_type": "code",
   "source": "df = pd.DataFrame({\"A\": [1,1,2,3], \"B\": [4,4,5,6]})\n",
   "id": "f16bdd186735687c",
   "outputs": [],
   "execution_count": 15
  },
  {
   "metadata": {
    "ExecuteTime": {
     "end_time": "2025-08-27T21:47:43.318749Z",
     "start_time": "2025-08-27T21:47:43.303536Z"
    }
   },
   "cell_type": "code",
   "source": "df",
   "id": "992c5c746831e103",
   "outputs": [
    {
     "data": {
      "text/plain": [
       "   A  B\n",
       "0  1  4\n",
       "1  1  4\n",
       "2  2  5\n",
       "3  3  6"
      ],
      "text/html": [
       "<div>\n",
       "<style scoped>\n",
       "    .dataframe tbody tr th:only-of-type {\n",
       "        vertical-align: middle;\n",
       "    }\n",
       "\n",
       "    .dataframe tbody tr th {\n",
       "        vertical-align: top;\n",
       "    }\n",
       "\n",
       "    .dataframe thead th {\n",
       "        text-align: right;\n",
       "    }\n",
       "</style>\n",
       "<table border=\"1\" class=\"dataframe\">\n",
       "  <thead>\n",
       "    <tr style=\"text-align: right;\">\n",
       "      <th></th>\n",
       "      <th>A</th>\n",
       "      <th>B</th>\n",
       "    </tr>\n",
       "  </thead>\n",
       "  <tbody>\n",
       "    <tr>\n",
       "      <th>0</th>\n",
       "      <td>1</td>\n",
       "      <td>4</td>\n",
       "    </tr>\n",
       "    <tr>\n",
       "      <th>1</th>\n",
       "      <td>1</td>\n",
       "      <td>4</td>\n",
       "    </tr>\n",
       "    <tr>\n",
       "      <th>2</th>\n",
       "      <td>2</td>\n",
       "      <td>5</td>\n",
       "    </tr>\n",
       "    <tr>\n",
       "      <th>3</th>\n",
       "      <td>3</td>\n",
       "      <td>6</td>\n",
       "    </tr>\n",
       "  </tbody>\n",
       "</table>\n",
       "</div>"
      ]
     },
     "execution_count": 16,
     "metadata": {},
     "output_type": "execute_result"
    }
   ],
   "execution_count": 16
  },
  {
   "metadata": {
    "ExecuteTime": {
     "end_time": "2025-08-27T21:53:20.568598Z",
     "start_time": "2025-08-27T21:53:20.558489Z"
    }
   },
   "cell_type": "code",
   "source": [
    "print(df.drop_duplicates(subset=[\"A\"],keep=\"first\"))\n",
    "print(df.drop_duplicates(subset=[\"A\"],keep=\"last\"))\n",
    "\n",
    "df.drop_duplicates(subset=[\"A\"], keep=False)\n"
   ],
   "id": "bd4565194d4eb05f",
   "outputs": [
    {
     "name": "stdout",
     "output_type": "stream",
     "text": [
      "   A  B\n",
      "0  1  4\n",
      "2  2  5\n",
      "3  3  6\n",
      "   A  B\n",
      "1  1  4\n",
      "2  2  5\n",
      "3  3  6\n"
     ]
    },
    {
     "data": {
      "text/plain": [
       "   A  B\n",
       "2  2  5\n",
       "3  3  6"
      ],
      "text/html": [
       "<div>\n",
       "<style scoped>\n",
       "    .dataframe tbody tr th:only-of-type {\n",
       "        vertical-align: middle;\n",
       "    }\n",
       "\n",
       "    .dataframe tbody tr th {\n",
       "        vertical-align: top;\n",
       "    }\n",
       "\n",
       "    .dataframe thead th {\n",
       "        text-align: right;\n",
       "    }\n",
       "</style>\n",
       "<table border=\"1\" class=\"dataframe\">\n",
       "  <thead>\n",
       "    <tr style=\"text-align: right;\">\n",
       "      <th></th>\n",
       "      <th>A</th>\n",
       "      <th>B</th>\n",
       "    </tr>\n",
       "  </thead>\n",
       "  <tbody>\n",
       "    <tr>\n",
       "      <th>2</th>\n",
       "      <td>2</td>\n",
       "      <td>5</td>\n",
       "    </tr>\n",
       "    <tr>\n",
       "      <th>3</th>\n",
       "      <td>3</td>\n",
       "      <td>6</td>\n",
       "    </tr>\n",
       "  </tbody>\n",
       "</table>\n",
       "</div>"
      ]
     },
     "execution_count": 27,
     "metadata": {},
     "output_type": "execute_result"
    }
   ],
   "execution_count": 27
  },
  {
   "metadata": {
    "ExecuteTime": {
     "end_time": "2025-08-27T22:00:12.575387Z",
     "start_time": "2025-08-27T22:00:12.568429Z"
    }
   },
   "cell_type": "code",
   "source": [
    "s = pd.Series([1,2,2,\"nan\",3,3])\n",
    "s"
   ],
   "id": "b8ed0aeccc2e9269",
   "outputs": [
    {
     "data": {
      "text/plain": [
       "0      1\n",
       "1      2\n",
       "2      2\n",
       "3    nan\n",
       "4      3\n",
       "5      3\n",
       "dtype: object"
      ]
     },
     "execution_count": 33,
     "metadata": {},
     "output_type": "execute_result"
    }
   ],
   "execution_count": 33
  },
  {
   "metadata": {
    "ExecuteTime": {
     "end_time": "2025-08-27T22:03:01.782659Z",
     "start_time": "2025-08-27T22:03:01.776373Z"
    }
   },
   "cell_type": "code",
   "source": "s.value_counts(dropna=True)",
   "id": "3efa7d50908e9fff",
   "outputs": [
    {
     "data": {
      "text/plain": [
       "2      2\n",
       "3      2\n",
       "1      1\n",
       "nan    1\n",
       "Name: count, dtype: int64"
      ]
     },
     "execution_count": 40,
     "metadata": {},
     "output_type": "execute_result"
    }
   ],
   "execution_count": 40
  },
  {
   "metadata": {
    "ExecuteTime": {
     "end_time": "2025-08-27T23:03:29.568796Z",
     "start_time": "2025-08-27T23:03:29.531330Z"
    }
   },
   "cell_type": "code",
   "source": [
    "import pandas as pd\n",
    "\n",
    "data = {\n",
    "    \"A\": [10, 20, 30],\n",
    "    \"B\": [5, 15, 25]\n",
    "}\n",
    "\n",
    "df = pd.DataFrame(data)\n",
    "\n",
    "print(\"Describe:\\n\", df.describe())      # summary stats\n",
    "print(\"\\nMean:\\n\", df.mean())            # column-wise mean\n",
    "print(\"\\nCorrelation:\\n\", df.corr())     # correlation matrix\n",
    "print(\"\\nCount:\\n\", df.count())          # non-null count\n",
    "print(\"\\nMax:\\n\", df.max())              # max value\n",
    "print(\"\\nMin:\\n\", df.min())              # min value\n",
    "print(\"\\nMedian:\\n\", df.median())        # median\n",
    "print(\"\\nStd Dev:\\n\", df.std())          # standard deviation"
   ],
   "id": "a623c59a328b378d",
   "outputs": [
    {
     "name": "stdout",
     "output_type": "stream",
     "text": [
      "Describe:\n",
      "           A     B\n",
      "count   3.0   3.0\n",
      "mean   20.0  15.0\n",
      "std    10.0  10.0\n",
      "min    10.0   5.0\n",
      "25%    15.0  10.0\n",
      "50%    20.0  15.0\n",
      "75%    25.0  20.0\n",
      "max    30.0  25.0\n",
      "\n",
      "Mean:\n",
      " A    20.0\n",
      "B    15.0\n",
      "dtype: float64\n",
      "\n",
      "Correlation:\n",
      "      A    B\n",
      "A  1.0  1.0\n",
      "B  1.0  1.0\n",
      "\n",
      "Count:\n",
      " A    3\n",
      "B    3\n",
      "dtype: int64\n",
      "\n",
      "Max:\n",
      " A    30\n",
      "B    25\n",
      "dtype: int64\n",
      "\n",
      "Min:\n",
      " A    10\n",
      "B     5\n",
      "dtype: int64\n",
      "\n",
      "Median:\n",
      " A    20.0\n",
      "B    15.0\n",
      "dtype: float64\n",
      "\n",
      "Std Dev:\n",
      " A    10.0\n",
      "B    10.0\n",
      "dtype: float64\n"
     ]
    }
   ],
   "execution_count": 41
  }
 ],
 "metadata": {
  "kernelspec": {
   "display_name": "Python 3",
   "language": "python",
   "name": "python3"
  },
  "language_info": {
   "codemirror_mode": {
    "name": "ipython",
    "version": 2
   },
   "file_extension": ".py",
   "mimetype": "text/x-python",
   "name": "python",
   "nbconvert_exporter": "python",
   "pygments_lexer": "ipython2",
   "version": "2.7.6"
  }
 },
 "nbformat": 4,
 "nbformat_minor": 5
}
