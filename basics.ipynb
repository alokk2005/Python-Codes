{
 "cells": [
  {
   "metadata": {
    "ExecuteTime": {
     "end_time": "2025-08-21T21:43:29.090840Z",
     "start_time": "2025-08-21T21:43:29.083443Z"
    }
   },
   "cell_type": "code",
   "source": [
    "# variables\n",
    "name = \"Alok\"       # string\n",
    "age = 20            # integer\n",
    "height = 5.9        # float\n",
    "is_student = True   # boolean\n",
    "\n",
    "print(name, age, height, is_student)\n"
   ],
   "id": "fbc121e30a2defb3",
   "outputs": [
    {
     "name": "stdout",
     "output_type": "stream",
     "text": [
      "Alok 20 5.9 True\n"
     ]
    }
   ],
   "execution_count": 2
  },
  {
   "metadata": {
    "ExecuteTime": {
     "end_time": "2025-08-21T21:45:03.990333Z",
     "start_time": "2025-08-21T21:44:56.141286Z"
    }
   },
   "cell_type": "code",
   "source": [
    "# taking input\n",
    "name = input(\"Enter your name: \")\n",
    "age = int(input(\"Enter your age: \"))\n",
    "\n",
    "print(\"Hello\",name,\"you are\", age, \"years old.\")\n"
   ],
   "id": "efda5e86256c3513",
   "outputs": [
    {
     "name": "stdout",
     "output_type": "stream",
     "text": [
      "Hello Alok\n",
      " you are 18 years old.\n"
     ]
    }
   ],
   "execution_count": 5
  },
  {
   "metadata": {
    "ExecuteTime": {
     "end_time": "2025-08-21T21:46:08.672349Z",
     "start_time": "2025-08-21T21:46:08.665576Z"
    }
   },
   "cell_type": "code",
   "source": [
    "a = 10\n",
    "b = 3\n",
    "\n",
    "print(a + b)   # addition\n",
    "print(a - b)   # subtraction\n",
    "print(a * b)   # multiplication\n",
    "print(a / b)   # division (float)\n",
    "print(a // b)  # division (integer)\n",
    "print(a % b)   # modulus (remainder)\n",
    "print(a ** b)  # exponent (10^3)\n"
   ],
   "id": "f7e9450f9165488",
   "outputs": [
    {
     "name": "stdout",
     "output_type": "stream",
     "text": [
      "13\n",
      "7\n",
      "30\n",
      "3.3333333333333335\n",
      "3\n",
      "1\n",
      "1000\n"
     ]
    }
   ],
   "execution_count": 6
  },
  {
   "metadata": {
    "ExecuteTime": {
     "end_time": "2025-08-21T21:48:42.222342Z",
     "start_time": "2025-08-21T21:48:32.664802Z"
    }
   },
   "cell_type": "code",
   "source": [
    "\n",
    "num1 = int(input(\"Enter the first number: \"))\n",
    "num2 = int(input(\"Enter the second number: \"))\n",
    "\n",
    "sum_result = num1 + num2\n",
    "product_result = num1 * num2\n",
    "\n",
    "\n",
    "print(f\"\\nResults:\")\n",
    "print(f\"Sum: {num1} + {num2} = {sum_result}\")\n",
    "print(f\"Product: {num1} × {num2} = {product_result}\")\n",
    "\n",
    "\n",
    "if num1 > num2:\n",
    "    print(f\"Larger number: {num1}\")\n",
    "elif num2 > num1:\n",
    "    print(f\"Larger number: {num2}\")\n",
    "else:\n",
    "    print(\"Both numbers are equal\")"
   ],
   "id": "6a58707ed3ff2940",
   "outputs": [
    {
     "name": "stdout",
     "output_type": "stream",
     "text": [
      "\n",
      "Results:\n",
      "Sum: 10 + 5 = 15\n",
      "Product: 10 × 5 = 50\n",
      "Larger number: 10\n"
     ]
    }
   ],
   "execution_count": 7
  },
  {
   "metadata": {
    "ExecuteTime": {
     "end_time": "2025-08-21T21:49:23.410943Z",
     "start_time": "2025-08-21T21:49:23.406609Z"
    }
   },
   "cell_type": "code",
   "source": [
    "# String\n",
    "\n",
    "text = \"Python\"\n",
    "\n",
    "print(text.upper())      # PYTHON\n",
    "print(text.lower())      # python\n",
    "print(len(text))         # 6\n",
    "print(text[0])           # P\n",
    "print(text[-1])          # n\n",
    "print(text[0:3])         # Pyt (slicing)\n"
   ],
   "id": "b6f9620d78eec574",
   "outputs": [
    {
     "name": "stdout",
     "output_type": "stream",
     "text": [
      "PYTHON\n",
      "python\n",
      "6\n",
      "P\n",
      "n\n",
      "Pyt\n"
     ]
    }
   ],
   "execution_count": 8
  },
  {
   "metadata": {
    "ExecuteTime": {
     "end_time": "2025-08-21T21:50:35.765658Z",
     "start_time": "2025-08-21T21:50:30.246684Z"
    }
   },
   "cell_type": "code",
   "source": [
    "# Program to manipulate a word from user input\n",
    "\n",
    "\n",
    "word = input(\"Enter a word: \")\n",
    "\n",
    "\n",
    "print(f\"\\nResults:\")\n",
    "print(f\"Uppercase: {word.upper()}\")\n",
    "\n",
    "\n",
    "print(f\"Reversed: {word[::-1]}\")"
   ],
   "id": "ae8e23002bfc662a",
   "outputs": [
    {
     "name": "stdout",
     "output_type": "stream",
     "text": [
      "\n",
      "Results:\n",
      "Uppercase: TEST\n",
      "Reversed: tset\n"
     ]
    }
   ],
   "execution_count": 10
  },
  {
   "metadata": {
    "ExecuteTime": {
     "end_time": "2025-08-21T21:51:29.173434Z",
     "start_time": "2025-08-21T21:51:25.618929Z"
    }
   },
   "cell_type": "code",
   "source": [
    "# if else\n",
    "age = int(input(\"Enter your age: \"))\n",
    "\n",
    "if age >= 18:\n",
    "    print(\"You are eligible to vote.\")\n",
    "else:\n",
    "    print(\"You are not eligible to vote.\")\n"
   ],
   "id": "67db52c59dfe570a",
   "outputs": [
    {
     "name": "stdout",
     "output_type": "stream",
     "text": [
      "You are eligible to vote.\n"
     ]
    }
   ],
   "execution_count": 11
  },
  {
   "metadata": {
    "ExecuteTime": {
     "end_time": "2025-08-21T21:52:11.784131Z",
     "start_time": "2025-08-21T21:52:07.500339Z"
    }
   },
   "cell_type": "code",
   "source": [
    "# Program to calculate grade based on marks\n",
    "\n",
    "marks = int(input(\"Enter your marks: \"))\n",
    "\n",
    "if marks >= 90:\n",
    "    print(f\"Marks: {marks} → Grade A\")\n",
    "elif marks >= 75:\n",
    "    print(f\"Marks: {marks} → Grade B\")\n",
    "elif marks >= 50:\n",
    "    print(f\"Marks: {marks} → Grade C\")\n",
    "else:\n",
    "    print(f\"Marks: {marks} → Fail\")"
   ],
   "id": "896ffe298b1388a",
   "outputs": [
    {
     "name": "stdout",
     "output_type": "stream",
     "text": [
      "Marks: 75 → Grade B\n"
     ]
    }
   ],
   "execution_count": 12
  },
  {
   "metadata": {
    "ExecuteTime": {
     "end_time": "2025-08-21T21:52:31.835586Z",
     "start_time": "2025-08-21T21:52:31.828131Z"
    }
   },
   "cell_type": "code",
   "source": [
    "for i in range(5):\n",
    "    print(\"Hello\", i)\n"
   ],
   "id": "c8d5f48369cf072",
   "outputs": [
    {
     "name": "stdout",
     "output_type": "stream",
     "text": [
      "Hello 0\n",
      "Hello 1\n",
      "Hello 2\n",
      "Hello 3\n",
      "Hello 4\n"
     ]
    }
   ],
   "execution_count": 13
  },
  {
   "metadata": {
    "ExecuteTime": {
     "end_time": "2025-08-21T21:54:09.539869Z",
     "start_time": "2025-08-21T21:54:09.535114Z"
    }
   },
   "cell_type": "code",
   "source": [
    "count = 1\n",
    "while count <= 5:\n",
    "    print(\"Count:\", count)\n",
    "    count += 1\n"
   ],
   "id": "7abb303fb9ad816",
   "outputs": [
    {
     "name": "stdout",
     "output_type": "stream",
     "text": [
      "Count: 1\n",
      "Count: 2\n",
      "Count: 3\n",
      "Count: 4\n",
      "Count: 5\n"
     ]
    }
   ],
   "execution_count": 19
  },
  {
   "metadata": {
    "ExecuteTime": {
     "end_time": "2025-08-21T21:55:17.899821Z",
     "start_time": "2025-08-21T21:55:17.894300Z"
    }
   },
   "cell_type": "code",
   "source": [
    "# Print numbers from 1 to 10 using both for and while.\n",
    "\n",
    "print(\"Using for loop:\")\n",
    "for i in range(1, 11):\n",
    "    print(i)\n",
    "\n",
    "print(\"\\nUsing while loop:\")\n",
    "i = 1\n",
    "while i <= 10:\n",
    "    print(i)\n",
    "    i += 1"
   ],
   "id": "75c902184f75b7e1",
   "outputs": [
    {
     "name": "stdout",
     "output_type": "stream",
     "text": [
      "Using for loop:\n",
      "1\n",
      "2\n",
      "3\n",
      "4\n",
      "5\n",
      "6\n",
      "7\n",
      "8\n",
      "9\n",
      "10\n",
      "\n",
      "Using while loop:\n",
      "1\n",
      "2\n",
      "3\n",
      "4\n",
      "5\n",
      "6\n",
      "7\n",
      "8\n",
      "9\n",
      "10\n"
     ]
    }
   ],
   "execution_count": 20
  },
  {
   "metadata": {
    "ExecuteTime": {
     "end_time": "2025-08-21T21:55:22.395789Z",
     "start_time": "2025-08-21T21:55:22.390327Z"
    }
   },
   "cell_type": "code",
   "source": [
    "# Print the multiplication table of 7.\n",
    "\n",
    "for i in range(1, 11):\n",
    "    print(f\"7 × {i} = {7 * i}\")"
   ],
   "id": "660de7c8d72f0a52",
   "outputs": [
    {
     "name": "stdout",
     "output_type": "stream",
     "text": [
      "7 × 1 = 7\n",
      "7 × 2 = 14\n",
      "7 × 3 = 21\n",
      "7 × 4 = 28\n",
      "7 × 5 = 35\n",
      "7 × 6 = 42\n",
      "7 × 7 = 49\n",
      "7 × 8 = 56\n",
      "7 × 9 = 63\n",
      "7 × 10 = 70\n"
     ]
    }
   ],
   "execution_count": 21
  },
  {
   "metadata": {
    "ExecuteTime": {
     "end_time": "2025-08-21T21:55:56.645681Z",
     "start_time": "2025-08-21T21:55:56.640615Z"
    }
   },
   "cell_type": "code",
   "source": [
    "# Print the sum of numbers from 1 to 100.\n",
    "\n",
    "total = 0\n",
    "for i in range(1, 101):\n",
    "    total += i\n",
    "print(f\"Sum of numbers from 1 to 100: {total}\")"
   ],
   "id": "797744a11977924d",
   "outputs": [
    {
     "name": "stdout",
     "output_type": "stream",
     "text": [
      "Sum of numbers from 1 to 100: 5050\n"
     ]
    }
   ],
   "execution_count": 22
  },
  {
   "metadata": {
    "ExecuteTime": {
     "end_time": "2025-08-21T21:56:39.399065Z",
     "start_time": "2025-08-21T21:56:39.395721Z"
    }
   },
   "cell_type": "code",
   "source": [
    "# Loop Control\n",
    "\n",
    "for i in range(10):\n",
    "    if i == 5:\n",
    "        continue    # skip when i=5\n",
    "    if i == 8:\n",
    "        break       # stop when i=8\n",
    "    print(i)\n"
   ],
   "id": "1f51fadf33b68c7d",
   "outputs": [
    {
     "name": "stdout",
     "output_type": "stream",
     "text": [
      "0\n",
      "1\n",
      "2\n",
      "3\n",
      "4\n",
      "6\n",
      "7\n"
     ]
    }
   ],
   "execution_count": 23
  },
  {
   "metadata": {
    "ExecuteTime": {
     "end_time": "2025-08-21T21:57:43.563837Z",
     "start_time": "2025-08-21T21:57:43.556055Z"
    }
   },
   "cell_type": "code",
   "source": [
    "# Print all numbers from 1 to 20, but skip multiples of 3\n",
    "\n",
    "for i in range(1, 21):\n",
    "    if i % 3 == 0:\n",
    "        continue\n",
    "    print(i)"
   ],
   "id": "2912483d1e3ef40d",
   "outputs": [
    {
     "name": "stdout",
     "output_type": "stream",
     "text": [
      "1\n",
      "2\n",
      "4\n",
      "5\n",
      "7\n",
      "8\n",
      "10\n",
      "11\n",
      "13\n",
      "14\n",
      "16\n",
      "17\n",
      "19\n",
      "20\n"
     ]
    }
   ],
   "execution_count": 24
  },
  {
   "metadata": {
    "ExecuteTime": {
     "end_time": "2025-08-21T21:58:21.198212Z",
     "start_time": "2025-08-21T21:58:21.194289Z"
    }
   },
   "cell_type": "code",
   "source": [
    "# Print numbers starting from 1, but stop when we reach 15\n",
    "\n",
    "for i in range(1, 21):\n",
    "    if i == 15:\n",
    "        break\n",
    "    print(i)"
   ],
   "id": "43c81c4688ba9e3e",
   "outputs": [
    {
     "name": "stdout",
     "output_type": "stream",
     "text": [
      "1\n",
      "2\n",
      "3\n",
      "4\n",
      "5\n",
      "6\n",
      "7\n",
      "8\n",
      "9\n",
      "10\n",
      "11\n",
      "12\n",
      "13\n",
      "14\n"
     ]
    }
   ],
   "execution_count": 25
  },
  {
   "metadata": {
    "ExecuteTime": {
     "end_time": "2025-08-21T21:59:02.581293Z",
     "start_time": "2025-08-21T21:59:02.578561Z"
    }
   },
   "cell_type": "code",
   "source": [
    "# Function\n",
    "\n",
    "def greet():\n",
    "    print(\"Hello, welcome to Python!\")\n",
    "\n",
    "greet()  # calling the function\n"
   ],
   "id": "1855fbcd9a97e5da",
   "outputs": [
    {
     "name": "stdout",
     "output_type": "stream",
     "text": [
      "Hello, welcome to Python!\n"
     ]
    }
   ],
   "execution_count": 26
  },
  {
   "metadata": {
    "ExecuteTime": {
     "end_time": "2025-08-21T21:59:38.906178Z",
     "start_time": "2025-08-21T21:59:38.902937Z"
    }
   },
   "cell_type": "code",
   "source": [
    "# sum of two no.\n",
    "\n",
    "def add(a, b):\n",
    "    return a + b\n",
    "\n",
    "result = add(5, 3)\n",
    "print(\"Sum is:\", result)\n"
   ],
   "id": "ab86c3b6815cfaa2",
   "outputs": [
    {
     "name": "stdout",
     "output_type": "stream",
     "text": [
      "Sum is: 8\n"
     ]
    }
   ],
   "execution_count": 27
  },
  {
   "metadata": {
    "ExecuteTime": {
     "end_time": "2025-08-21T22:01:07.661462Z",
     "start_time": "2025-08-21T22:01:07.655742Z"
    }
   },
   "cell_type": "code",
   "source": [
    "# even or odd\n",
    "\n",
    "def is_even(num):\n",
    "    return num % 2 == 0\n",
    "\n",
    "# Test the function\n",
    "print(is_even(4))\n",
    "print(is_even(7))\n",
    "print(is_even(0))\n",
    "print(is_even(-2))\n",
    "print(is_even(-3))"
   ],
   "id": "8f2d19f7dd2e8ead",
   "outputs": [
    {
     "name": "stdout",
     "output_type": "stream",
     "text": [
      "True\n",
      "False\n",
      "True\n",
      "True\n",
      "False\n"
     ]
    }
   ],
   "execution_count": 29
  },
  {
   "metadata": {
    "ExecuteTime": {
     "end_time": "2025-08-21T22:01:25.283302Z",
     "start_time": "2025-08-21T22:01:25.277117Z"
    }
   },
   "cell_type": "code",
   "source": [
    "def greet(name=\"Guest\"):\n",
    "    print(\"Hello\", name)\n",
    "\n",
    "greet(\"Alok\")\n",
    "greet()\n"
   ],
   "id": "60a0eec1a955dac2",
   "outputs": [
    {
     "name": "stdout",
     "output_type": "stream",
     "text": [
      "Hello Alok\n",
      "Hello Guest\n"
     ]
    }
   ],
   "execution_count": 30
  },
  {
   "metadata": {
    "ExecuteTime": {
     "end_time": "2025-08-21T22:02:46.366138Z",
     "start_time": "2025-08-21T22:02:46.361853Z"
    }
   },
   "cell_type": "code",
   "source": [
    "def power(base, exp=2):\n",
    "    return base ** exp\n",
    "\n",
    "\n",
    "print(power(5))\n",
    "print(power(3, 3))\n",
    "print(power(2, 4))\n",
    "print(power(10))\n",
    "print(power(4, 0))"
   ],
   "id": "4187c67cf1a4a8f4",
   "outputs": [
    {
     "name": "stdout",
     "output_type": "stream",
     "text": [
      "25\n",
      "27\n",
      "16\n",
      "100\n",
      "1\n"
     ]
    }
   ],
   "execution_count": 32
  },
  {
   "metadata": {
    "ExecuteTime": {
     "end_time": "2025-08-21T22:03:08.326047Z",
     "start_time": "2025-08-21T22:03:08.317438Z"
    }
   },
   "cell_type": "code",
   "source": [
    "x = 10  # global\n",
    "\n",
    "def test():\n",
    "    x = 5  # local\n",
    "    print(\"Inside function:\", x)\n",
    "\n",
    "test()\n",
    "print(\"Outside function:\", x)\n"
   ],
   "id": "69770ea1cb6b70a3",
   "outputs": [
    {
     "name": "stdout",
     "output_type": "stream",
     "text": [
      "Inside function: 5\n",
      "Outside function: 10\n"
     ]
    }
   ],
   "execution_count": 33
  },
  {
   "metadata": {
    "ExecuteTime": {
     "end_time": "2025-08-21T22:04:02.257636Z",
     "start_time": "2025-08-21T22:03:49.512399Z"
    }
   },
   "cell_type": "code",
   "source": [
    "# Simple Calculator\n",
    "\n",
    "def add(a, b): return a + b\n",
    "def sub(a, b): return a - b\n",
    "def mul(a, b): return a * b\n",
    "def div(a, b): return a / b if b != 0 else \"Error: Divide by zero\"\n",
    "\n",
    "x = int(input(\"Enter first number: \"))\n",
    "y = int(input(\"Enter second number: \"))\n",
    "op = input(\"Enter operation (+, -, *, /): \")\n",
    "\n",
    "if op == '+':\n",
    "    print(\"Result:\", add(x, y))\n",
    "elif op == '-':\n",
    "    print(\"Result:\", sub(x, y))\n",
    "elif op == '*':\n",
    "    print(\"Result:\", mul(x, y))\n",
    "elif op == '/':\n",
    "    print(\"Result:\", div(x, y))\n",
    "else:\n",
    "    print(\"Invalid operator\")\n"
   ],
   "id": "26963d950c7b83a9",
   "outputs": [
    {
     "name": "stdout",
     "output_type": "stream",
     "text": [
      "Result: 8\n"
     ]
    }
   ],
   "execution_count": 34
  }
 ],
 "metadata": {
  "kernelspec": {
   "display_name": "Python 3",
   "language": "python",
   "name": "python3"
  },
  "language_info": {
   "codemirror_mode": {
    "name": "ipython",
    "version": 2
   },
   "file_extension": ".py",
   "mimetype": "text/x-python",
   "name": "python",
   "nbconvert_exporter": "python",
   "pygments_lexer": "ipython2",
   "version": "2.7.6"
  }
 },
 "nbformat": 4,
 "nbformat_minor": 5
}
