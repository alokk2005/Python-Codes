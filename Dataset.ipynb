{
 "cells": [
  {
   "cell_type": "code",
   "id": "initial_id",
   "metadata": {
    "collapsed": true,
    "ExecuteTime": {
     "end_time": "2025-08-26T05:23:37.215825Z",
     "start_time": "2025-08-26T05:23:37.210921Z"
    }
   },
   "source": [
    "import numpy as np\n",
    "import pandas as pd\n",
    "import matplotlib.pyplot as plt\n",
    "\n",
    "\n",
    "x = np.array([1, 2, 3, 4, 5])\n",
    "y = np.array([2, 4, 5, 4, 5])\n",
    "\n",
    "n = len(x)\n",
    "\n",
    "m = (n * np.sum(x*y) - np.sum(x) * np.sum(y)) / (n * np.sum(x**2) - (np.sum(x))**2)\n",
    "b = (np.sum(y) - m * np.sum(x)) / n\n",
    "\n",
    "print(\"Slope (m):\", m)\n",
    "print(\"Intercept (b):\", b)\n",
    "\n",
    "\n",
    "print(f\"Equation of line: y = {m:.2f}x + {b:.2f}\")\n",
    "\n",
    "\n",
    "y_pred = m * x + b\n",
    "\n",
    "print(\"Predicted y values:\", y_pred)\n"
   ],
   "outputs": [
    {
     "name": "stdout",
     "output_type": "stream",
     "text": [
      "Slope (m): 0.6\n",
      "Intercept (b): 2.2\n",
      "Equation of line: y = 0.60x + 2.20\n",
      "Predicted y values: [2.8 3.4 4.  4.6 5.2]\n"
     ]
    }
   ],
   "execution_count": 6
  },
  {
   "metadata": {
    "ExecuteTime": {
     "end_time": "2025-08-27T20:37:25.723386Z",
     "start_time": "2025-08-27T20:37:24.721491Z"
    }
   },
   "cell_type": "code",
   "source": [
    "import pandas as pd\n",
    "\n",
    "data = {\n",
    "    \"A\": [10, 20, 30],\n",
    "    \"B\": [5, 15, 25]\n",
    "}\n",
    "\n",
    "df = pd.DataFrame(data)\n",
    "\n",
    "print(\"Describe:\\n\", df.describe())      # summary stats\n",
    "print(\"\\nMean:\\n\", df.mean())            # column-wise mean\n",
    "print(\"\\nCorrelation:\\n\", df.corr())     # correlation matrix\n",
    "print(\"\\nCount:\\n\", df.count())          # non-null count\n",
    "print(\"\\nMax:\\n\", df.max())              # max value\n",
    "print(\"\\nMin:\\n\", df.min())              # min value\n",
    "print(\"\\nMedian:\\n\", df.median())        # median\n",
    "print(\"\\nStd Dev:\\n\", df.std())          # standard deviation"
   ],
   "id": "e0d7132b23b708db",
   "outputs": [
    {
     "name": "stdout",
     "output_type": "stream",
     "text": [
      "Describe:\n",
      "           A     B\n",
      "count   3.0   3.0\n",
      "mean   20.0  15.0\n",
      "std    10.0  10.0\n",
      "min    10.0   5.0\n",
      "25%    15.0  10.0\n",
      "50%    20.0  15.0\n",
      "75%    25.0  20.0\n",
      "max    30.0  25.0\n",
      "\n",
      "Mean:\n",
      " A    20.0\n",
      "B    15.0\n",
      "dtype: float64\n",
      "\n",
      "Correlation:\n",
      "      A    B\n",
      "A  1.0  1.0\n",
      "B  1.0  1.0\n",
      "\n",
      "Count:\n",
      " A    3\n",
      "B    3\n",
      "dtype: int64\n",
      "\n",
      "Max:\n",
      " A    30\n",
      "B    25\n",
      "dtype: int64\n",
      "\n",
      "Min:\n",
      " A    10\n",
      "B     5\n",
      "dtype: int64\n",
      "\n",
      "Median:\n",
      " A    20.0\n",
      "B    15.0\n",
      "dtype: float64\n",
      "\n",
      "Std Dev:\n",
      " A    10.0\n",
      "B    10.0\n",
      "dtype: float64\n"
     ]
    }
   ],
   "execution_count": 1
  }
 ],
 "metadata": {
  "kernelspec": {
   "display_name": "Python 3",
   "language": "python",
   "name": "python3"
  },
  "language_info": {
   "codemirror_mode": {
    "name": "ipython",
    "version": 2
   },
   "file_extension": ".py",
   "mimetype": "text/x-python",
   "name": "python",
   "nbconvert_exporter": "python",
   "pygments_lexer": "ipython2",
   "version": "2.7.6"
  }
 },
 "nbformat": 4,
 "nbformat_minor": 5
}
